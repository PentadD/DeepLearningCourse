{
 "metadata": {
  "kernelspec": {
   "display_name": "Python 2",
   "language": "python",
   "name": "python2"
  },
  "language_info": {
   "codemirror_mode": {
    "name": "ipython",
    "version": 2
   },
   "file_extension": ".py",
   "mimetype": "text/x-python",
   "name": "python",
   "nbconvert_exporter": "python",
   "pygments_lexer": "ipython2",
   "version": "2.7.12"
  },
  "name": "",
  "signature": "sha256:b75c4c8f674696600bc9f3ffa3c4c9417947e3f706a8752f89d93478dce79b7f",
  "varInspector": {
   "cols": {
    "lenName": 16,
    "lenType": 16,
    "lenVar": 40
   },
   "kernels_config": {
    "python": {
     "delete_cmd_postfix": "",
     "delete_cmd_prefix": "del ",
     "library": "var_list.py",
     "varRefreshCmd": "print(var_dic_list())"
    },
    "r": {
     "delete_cmd_postfix": ") ",
     "delete_cmd_prefix": "rm(",
     "library": "var_list.r",
     "varRefreshCmd": "cat(var_dic_list()) "
    }
   },
   "types_to_exclude": [
    "module",
    "function",
    "builtin_function_or_method",
    "instance",
    "_Feature"
   ],
   "window_display": false
  }
 },
 "nbformat": 3,
 "nbformat_minor": 0,
 "worksheets": [
  {
   "cells": [
    {
     "cell_type": "markdown",
     "metadata": {},
     "source": [
      "Run the cell below to import the required packages:"
     ]
    },
    {
     "cell_type": "code",
     "collapsed": false,
     "input": [
      "import numpy as np\n",
      "import matplotlib.pyplot as plt\n",
      "from keras.datasets import mnist\n",
      "\n",
      "\n",
      "def accuracy(Y,P):\n",
      "    return np.count_nonzero(np.equal(np.argmax(Y,axis=-1),np.argmax(P,axis=-1)).astype(int))/float(Y.shape[0])\n",
      "\n",
      "def visualize(data):\n",
      "    p = data.reshape((28,28))\n",
      "    plt.imshow(p,interpolation='none', cmap='gray_r')\n",
      "    plt.show()\n",
      "\n",
      "%matplotlib inline"
     ],
     "language": "python",
     "metadata": {
      "scrolled": true
     },
     "outputs": [
      {
       "output_type": "stream",
       "stream": "stderr",
       "text": [
        "Using TensorFlow backend.\n"
       ]
      }
     ],
     "prompt_number": 1
    },
    {
     "cell_type": "markdown",
     "metadata": {},
     "source": [
      "## Dataset\n"
     ]
    },
    {
     "cell_type": "markdown",
     "metadata": {},
     "source": [
      "The MNIST dataset contains handwritten digit, it has 60000 train image and 10000 test image. It's a commonly used dataset for training and testing machine learning models, because it contains real word examples, it's not that big, so it's fast to try out learning algorithms and experiment on this. The dataset is a subset of a larger database collected by National Institute of Standards and Technology (NIST) in the 90's. The purpose of collecting the dataset to create a database which can be used to create algorithms to be used in automatic ZIP code reader systems. The numbers in the training set was taken from American Census Bureau:\n",
      "<img src=\"images/hwd_example.PNG\" width=\"300px\" />\n",
      "\n",
      "The test set was collected from American high school students. Because train and test data comes from very different sources  it's not well suited for machine learning experiments. This was the reason for creating the MNIST (the images also was normalized to fit into 28x28 pixel and transformed to grayscale). In 2017 a larger dataset (EMNIST) was created from the original data containing 240000 training images and 40000 testing images. "
     ]
    },
    {
     "cell_type": "markdown",
     "metadata": {},
     "source": [
      "The cells below will load the data into a numpy matrices:"
     ]
    },
    {
     "cell_type": "code",
     "collapsed": false,
     "input": [
      "(x_train, y_train), (x_test, y_test) = mnist.load_data()\n",
      "\n",
      "x_train = x_train.reshape((x_train.shape[0], x_train.shape[1]*x_train.shape[2]))/255.\n",
      "x_test = x_test.reshape((x_test.shape[0], x_test.shape[1]*x_test.shape[2]))/255."
     ],
     "language": "python",
     "metadata": {},
     "outputs": [],
     "prompt_number": 5
    },
    {
     "cell_type": "code",
     "collapsed": false,
     "input": [
      "\n",
      "print(x_train.shape)\n",
      "print(y_train.shape)\n",
      "print(y_train[0:10])\n",
      "print(x_test.shape)\n",
      "print(y_test.shape)"
     ],
     "language": "python",
     "metadata": {},
     "outputs": [
      {
       "output_type": "stream",
       "stream": "stdout",
       "text": [
        "(60000, 784)\n",
        "(60000,)\n",
        "[5 0 4 1 9 2 1 3 1 4]\n",
        "(10000, 784)\n",
        "(10000,)\n"
       ]
      }
     ],
     "prompt_number": 6
    },
    {
     "cell_type": "markdown",
     "metadata": {},
     "source": [
      "As you can see, the dataset have 60000 training images and 10000 test images."
     ]
    },
    {
     "cell_type": "code",
     "collapsed": false,
     "input": [
      "visualize(x_train[9999])"
     ],
     "language": "python",
     "metadata": {},
     "outputs": [
      {
       "metadata": {},
       "output_type": "display_data",
       "png": "[encoded data removed]",
       "text": [
        "<matplotlib.figure.Figure at 0x7f2eb1db8048>"
       ]
      }
     ],
     "prompt_number": 7
    },
    {
     "cell_type": "markdown",
     "metadata": {},
     "source": [
      "\n",
      "\n",
      "\n",
      "The label is simply the number you can see on the picture:"
     ]
    },
    {
     "cell_type": "code",
     "collapsed": false,
     "input": [
      "y_train[9999]"
     ],
     "language": "python",
     "metadata": {},
     "outputs": [
      {
       "metadata": {},
       "output_type": "pyout",
       "prompt_number": 8,
       "text": [
        "7"
       ]
      }
     ],
     "prompt_number": 8
    },
    {
     "cell_type": "markdown",
     "metadata": {},
     "source": [
      "## Goal\n",
      "\n",
      "The goal of this notebook is to implement neural networks in numpy and train it with gradient descent to recognize handwritten digits. \n",
      "\n",
      "The notebook contains 2 homeworks: \n",
      "* implementing the forward step of an L-layer neural network (due 03.06)\n",
      "* implementing the backward step of an L-layer neural network, implementing the gradient descent and mini-batch gradient descent (due 03.13)\n"
     ]
    },
    {
     "cell_type": "markdown",
     "metadata": {},
     "source": [
      "## One-hot encoding\n",
      "\n",
      "The labels are discrete variables. To train a classifier we need to transform them to probabilities. This transformation is called one-hot encoding. It is defined as follows:\n",
      "\n",
      "\\begin{equation}\n",
      "y\\in \\{0,1,2,...,K\\}\\longrightarrow y\\in \\{0,1\\}^K \\\\\n",
      "y=l \\Longrightarrow y = [0, 0, \\dots, 0]\\;(K \\mathrm{dimensional}),\\; y_l = 1\n",
      "\\end{equation}\n",
      "\n",
      "Implement this transformation:"
     ]
    },
    {
     "cell_type": "code",
     "collapsed": false,
     "input": [
      "#GRADED function\n",
      "#Don't change the function name, parameters and return values\n",
      "def one_hot(y):\n",
      "    \n",
      "    y_oh = np.zeros((len(y), max(y)+1))\n",
      "    ###Start code here\n",
      "    \n",
      "    # set y_oh to the one-hot encoded version of labels y\n",
      "    for i in range(len(y)):\n",
      "        y_oh[i][y[i]] = 1\n",
      "    \n",
      "    ###End code here\n",
      "    return y_oh\n",
      "\n"
     ],
     "language": "python",
     "metadata": {},
     "outputs": [],
     "prompt_number": 9
    },
    {
     "cell_type": "code",
     "collapsed": false,
     "input": [
      "\n",
      "one_hot(y_train[0:10])[0:10] "
     ],
     "language": "python",
     "metadata": {},
     "outputs": [
      {
       "metadata": {},
       "output_type": "pyout",
       "prompt_number": 10,
       "text": [
        "array([[0., 0., 0., 0., 0., 1., 0., 0., 0., 0.],\n",
        "       [1., 0., 0., 0., 0., 0., 0., 0., 0., 0.],\n",
        "       [0., 0., 0., 0., 1., 0., 0., 0., 0., 0.],\n",
        "       [0., 1., 0., 0., 0., 0., 0., 0., 0., 0.],\n",
        "       [0., 0., 0., 0., 0., 0., 0., 0., 0., 1.],\n",
        "       [0., 0., 1., 0., 0., 0., 0., 0., 0., 0.],\n",
        "       [0., 1., 0., 0., 0., 0., 0., 0., 0., 0.],\n",
        "       [0., 0., 0., 1., 0., 0., 0., 0., 0., 0.],\n",
        "       [0., 1., 0., 0., 0., 0., 0., 0., 0., 0.],\n",
        "       [0., 0., 0., 0., 1., 0., 0., 0., 0., 0.]])"
       ]
      }
     ],
     "prompt_number": 10
    },
    {
     "cell_type": "markdown",
     "metadata": {},
     "source": [
      "<b>Expected result:</b>\n",
      "\\begin{equation}\n",
      "\\begin{bmatrix}\n",
      "0.&0.& 0.& 0.& 0.& 1.& 0.& 0.& 0.& 0.\\\\\n",
      "1.& 0.& 0.& 0.& 0.& 0.& 0.& 0.& 0.& 0.\\\\\n",
      "0.& 0.&0.& 0.& 1.& 0.& 0.& 0.& 0.& 0.\\\\\n",
      "0.& 1.& 0.& 0.& 0.& 0.& 0.& 0.& 0.& 0.\\\\\n",
      "0.& 0.& 0.& 0.& 0.& 0.& 0.& 0.& 0.& 1.\\\\\n",
      "0.& 0.& 1.& 0.& 0.& 0.& 0.& 0.& 0.& 0.\\\\\n",
      "0.& 1.& 0.& 0.& 0.& 0.& 0.& 0.& 0.& 0.\\\\\n",
      "0.& 0.& 0.& 1.& 0.& 0.& 0.& 0.& 0.& 0.\\\\\n",
      "0.& 1.& 0.& 0.& 0.& 0.& 0.& 0.& 0.& 0.\\\\\n",
      "0.& 0.& 0.& 0.& 1.& 0.& 0.& 0.& 0.& 0.\n",
      "      \\end{bmatrix}\n",
      "       \\end{equation}"
     ]
    },
    {
     "cell_type": "markdown",
     "metadata": {},
     "source": [
      "<b>Transforming the whole dataset</b>:"
     ]
    },
    {
     "cell_type": "code",
     "collapsed": false,
     "input": [
      "y_train_oh = one_hot(y_train)\n",
      "y_test_oh = one_hot(y_test)\n",
      "\n",
      "print(y_train_oh.shape)\n",
      "print(y_test_oh.shape)\n",
      "\n"
     ],
     "language": "python",
     "metadata": {},
     "outputs": [
      {
       "output_type": "stream",
       "stream": "stdout",
       "text": [
        "(60000, 10)\n",
        "(10000, 10)\n"
       ]
      }
     ],
     "prompt_number": 11
    },
    {
     "cell_type": "markdown",
     "metadata": {},
     "source": [
      "# L layer neural network\n",
      "\n",
      "\n",
      "Neural network can be described with the following computational graph:\n",
      "<img src=\"images/NeuralNetworkForwardPass.png\" />\n",
      "\n",
      "This graph describes the forward propagation in the neural network. As you can see, every linear unit needs a $W$ matrix and a $b$ vector. First we need to initialize the weights of the networks. \n"
     ]
    },
    {
     "cell_type": "markdown",
     "metadata": {},
     "source": [
      "## Initializing the weights of an L layer network\n",
      "\n",
      "As you can see above the computational graph also shows the dimensions of these objects. It's important to initialize the $W$\n",
      "matrices to be random. To see this, imagine the following network:\n",
      "\n",
      "<img src=\"images/simple_net.png\" />\n",
      "\n",
      "If we initialize the weights to zeros (or each neuron have the same weights), then the network will have the following symmetry: \n",
      "\\begin{equation}\n",
      "a^{[1]}_0=a^{[1]}_1\n",
      "\\end{equation}\n",
      "\n",
      "So the two neurons in the first layer computes exactly the same function in the first step. When we calculate the derivatives with backpropagation, the gradient's will also reflect this symmetry:\n",
      "\\begin{equation}\n",
      "\\frac{\\partial L}{\\partial W^{[1]}_0}=\\frac{\\partial L}{\\partial W^{[1]}_1}\n",
      "\\end{equation}\n",
      "\n",
      "This means, that the weights of the first and second neuron will be the same for every iteration when we try to train the network with gradient descent ($W=W-\\alpha\\frac{\\partial L}{\\partial W}$). So in case of $n$ neuron, instead of $n$ neuron we will have just one, but we will do the single neuron computation $n$ times. To break this symmetry you need to initialize the $W$ matrices to be random. This will break the symmetry. The $b$ values can be set to zeros.\n",
      "\n",
      "<b>Takeaway message: </b> to break the symmetry (every neuron in the layer computes the same) you need to initialize the weights matrices ($W$) to be random!\n",
      "\n",
      "\n",
      "#### Multiplying with a small number\n",
      "\n",
      "\n",
      "We also want the randomly initialized weight matrix to have small values. If the values of the weight matrix aren't small, then the output of the neuron won't be small either. Because after the linear unit we go trough some non-linearity, and in case of a sigmoid non-linearity it means we are in the flat part of the function:\n",
      "<img src=\"images/sigmoid.PNG\" />\n",
      "\n",
      "If we are in the flat part as you can see in the plot, the derivative is pretty small. This means the change in the weight matrix will be very small, so the training will slow down. To avoid this, we multiply the weights with a small number, let's say with $0.01$."
     ]
    },
    {
     "cell_type": "code",
     "collapsed": false,
     "input": [
      "#GRADED function\n",
      "#Don't change the function name, parameters and return values\n",
      "def initialize_weights(layer_dimensions):\n",
      "  \n",
      "    parameters={}\n",
      "    # initialize the weights matrix W with small random numbers (multiply by 0.01), and b to zeros FOR ALL LAYERS!\n",
      "    for k in range(0,len(layer_dimensions)-1):\n",
      "        W_string = \"W\"+str(k+1)\n",
      "        b_string = \"b\"+str(k+1)\n",
      "        parameters[W_string] = 0.01*np.random.randn(layer_dimensions[k+1],layer_dimensions[k])\n",
      "        parameters[b_string] = np.zeros((layer_dimensions[k+1],1))\n",
      "    \n",
      "    \n",
      "    return parameters\n"
     ],
     "language": "python",
     "metadata": {},
     "outputs": [],
     "prompt_number": 12
    },
    {
     "cell_type": "code",
     "collapsed": false,
     "input": [
      "np.random.seed(0)\n",
      "parameters = initialize_weights([3,6])\n",
      "print(\"W1.shape=\",parameters[\"W1\"].shape)\n",
      "print(\"b1.shape=\",parameters[\"b1\"].shape)\n",
      "print(\"W1=\",parameters[\"W1\"])\n",
      "print(\"b1=\",parameters[\"b1\"])"
     ],
     "language": "python",
     "metadata": {},
     "outputs": [
      {
       "output_type": "stream",
       "stream": "stdout",
       "text": [
        "W1.shape= (6, 3)\n",
        "b1.shape= (6, 1)\n",
        "W1= [[ 0.01764052  0.00400157  0.00978738]\n",
        " [ 0.02240893  0.01867558 -0.00977278]\n",
        " [ 0.00950088 -0.00151357 -0.00103219]\n",
        " [ 0.00410599  0.00144044  0.01454274]\n",
        " [ 0.00761038  0.00121675  0.00443863]\n",
        " [ 0.00333674  0.01494079 -0.00205158]]\n",
        "b1= [[0.]\n",
        " [0.]\n",
        " [0.]\n",
        " [0.]\n",
        " [0.]\n",
        " [0.]]\n"
       ]
      }
     ],
     "prompt_number": 13
    },
    {
     "cell_type": "markdown",
     "metadata": {},
     "source": [
      "<b>Expected outpt:</b>\n",
      "\n",
      "W1.shape= (6, 3)\n",
      "\n",
      "b1.shape= (6, 1)\n",
      "\n",
      "W1=\\begin{equation}\\begin{bmatrix} 0.01764052&  0.00400157& 0.00978738\\\\\n",
      "  0.02240893&  0.01867558 &-0.00977278]\\\\\n",
      "  0.00950088& -0.00151357& -0.00103219]\\\\\n",
      "  0.00410599&  0.00144044 & 0.01454274]\\\\\n",
      "  0.00761038 & 0.00121675&  0.00443863]\\\\\n",
      "  0.00333674 & 0.01494079 &-0.00205158]]\n",
      " \\end{bmatrix}\n",
      " \\end{equation}\n",
      " \n",
      "b1= \\begin{equation}\n",
      "\\begin{bmatrix}0\\\\\n",
      " 0.\\\\\n",
      " 0.\\\\\n",
      " 0.\\\\\n",
      " 0.\\\\\n",
      " 0.\n",
      " \\end{bmatrix}\n",
      " \\end{equation}"
     ]
    },
    {
     "cell_type": "markdown",
     "metadata": {},
     "source": [
      "## Forward propagation in the network\n",
      "\n",
      "\n",
      "To evaluate the network and make prediction, calculate the loss function you have to go trough the computational graph shown above. As you can see the graph contains modules. To implement the whole calculation you need to implement these simple modules, step by step.\n",
      "\n",
      "\n",
      "### Linear step\n",
      "\n",
      "\n",
      "The first module is the linear unit. The calculation is illustrated in the following graph:\n",
      "<img src=\"images/nn_linear.png\" />"
     ]
    },
    {
     "cell_type": "code",
     "collapsed": false,
     "input": [
      "#GRADED function\n",
      "#Don't change the function name, parameters and return values\n",
      "def linear_forward(W, b, a_prev):\n",
      "    \"\"\"\n",
      "        Linear unit in the computational graph.\n",
      "        Inputs:\n",
      "                * W: the weight matrix of the unit (dimensions in the graph above)\n",
      "                * b: the bias vector of the unit (dimensions in the graph above)\n",
      "                * a_prev: the activation from the previous node (dimensions in the graph above)\n",
      "        Outputs:\n",
      "                * Z:     the result (dimensions in the graph above)\n",
      "                * cache: combination of values you will need in backward passes\n",
      "    \"\"\"\n",
      "    ###Start code here\n",
      "    \n",
      "    # Calculate Z\n",
      "    Z = np.add(np.matmul(W,a_prev),b)\n",
      "\n",
      "    # Create a cache for backpropagation\n",
      "\n",
      "    cache = (Z,W,a_prev, W)\n",
      "\n",
      "    return Z, cache"
     ],
     "language": "python",
     "metadata": {},
     "outputs": [],
     "prompt_number": 14
    },
    {
     "cell_type": "code",
     "collapsed": false,
     "input": [
      "np.random.seed(0)\n",
      "parameters = initialize_weights([3,2])\n",
      "x = np.random.randn(1,3).T\n",
      "Z, cache = linear_forward(parameters[\"W1\"],parameters[\"b1\"],x)\n",
      "print(Z)"
     ],
     "language": "python",
     "metadata": {},
     "outputs": [
      {
       "output_type": "stream",
       "stream": "stdout",
       "text": [
        "[[0.01514415]\n",
        " [0.01947252]]\n"
       ]
      }
     ],
     "prompt_number": 15
    },
    {
     "cell_type": "markdown",
     "metadata": {},
     "source": [
      "<b>Expected output</b>\n",
      "\\begin{equation}\n",
      "\\begin{bmatrix}0.01514415\\\\\n",
      " 0.01947252\n",
      "    \\end{bmatrix}\n",
      "\\end{equation}"
     ]
    },
    {
     "cell_type": "markdown",
     "metadata": {},
     "source": [
      "### Non-linear step\n",
      "\n",
      "After we calculated the linear node, the result of this will go trough some non-linearity. This is shown in the graph below:\n",
      "\n",
      "<img src=\"images/nn_nonlinear.png\" />\n",
      "\n",
      "We choose the $g$ function to be sigmoid function in this case. Implement this function. The sigmoid function:\n",
      "$f(x)=\\frac{1}{1+e^{-x}}$"
     ]
    },
    {
     "cell_type": "code",
     "collapsed": false,
     "input": [
      "#GRADED function\n",
      "#Don't change the function name, parameters and return values\n",
      "def activation_forward(Z):\n",
      "    \"\"\"\n",
      "        Activation node on the forward computational graph.\n",
      "        Inputs:\n",
      "                Z: the ouput of linear unit\n",
      "        Outputs:\n",
      "                a: the activation\n",
      "    \"\"\"\n",
      "    ###Start code here\n",
      "   \n",
      "    #implement sigmoid activation\n",
      "    \n",
      "    a = np.zeros(Z.shape)\n",
      "    for k in range(len(Z)):\n",
      "        for l in range(len(Z[k])):\n",
      "            a[k][l] = 1./(1+np.exp(-Z[k][l]))\n",
      "\n",
      "    ###End code here\n",
      "    return a"
     ],
     "language": "python",
     "metadata": {},
     "outputs": [],
     "prompt_number": 16
    },
    {
     "cell_type": "code",
     "collapsed": false,
     "input": [
      "np.random.seed(0)\n",
      "Z = np.random.randn(2,3)\n",
      "activation_forward(Z)"
     ],
     "language": "python",
     "metadata": {},
     "outputs": [
      {
       "metadata": {},
       "output_type": "pyout",
       "prompt_number": 17,
       "text": [
        "array([[0.85371646, 0.59872543, 0.72685773],\n",
        "       [0.9038621 , 0.86617546, 0.27343225]])"
       ]
      }
     ],
     "prompt_number": 17
    },
    {
     "cell_type": "markdown",
     "metadata": {},
     "source": [
      "<b>Expected output:</b>\n",
      "\n",
      "\\begin{equation}\n",
      "\\begin{bmatrix}\n",
      "0.85371646& 0.59872543& 0.72685773\\\\\n",
      "       0.9038621 & 0.86617546& 0.27343225\n",
      "       \\end{bmatrix}\n",
      "       \\end{equation}"
     ]
    },
    {
     "cell_type": "markdown",
     "metadata": {},
     "source": [
      "### Softmax step\n",
      "\n",
      "The last part of the computational graph is a softmax unit.\n",
      "\n",
      "<img src=\"images/nn_softmax.png\" />\n",
      "\n",
      "Implement the function shown in the graph."
     ]
    },
    {
     "cell_type": "code",
     "collapsed": false,
     "input": [
      "#GRADED function\n",
      "#Don't change the function name, parameters and return values\n",
      "def softmax(Z):\n",
      "    \n",
      "    a = np.zeros(Z.shape)\n",
      "    \n",
      "    for k in range(len(Z)):\n",
      "        for l in range(len(Z[k])):\n",
      "            a[k][l] = np.exp(Z[k][l])/(sum([np.exp(x) for x in Z[k]]))\n",
      "    \n",
      "    ###End code here\n",
      "    return a"
     ],
     "language": "python",
     "metadata": {},
     "outputs": [],
     "prompt_number": 18
    },
    {
     "cell_type": "code",
     "collapsed": false,
     "input": [
      "np.random.seed(0)\n",
      "Z = np.random.randn(2,3)\n",
      "softmax(Z)"
     ],
     "language": "python",
     "metadata": {},
     "outputs": [
      {
       "metadata": {},
       "output_type": "pyout",
       "prompt_number": 19,
       "text": [
        "array([[0.58423523, 0.14936733, 0.26639744],\n",
        "       [0.57854881, 0.39829292, 0.02315827]])"
       ]
      }
     ],
     "prompt_number": 19
    },
    {
     "cell_type": "markdown",
     "metadata": {},
     "source": [
      "<b>Expected output:</b>\n",
      "\n",
      "\\begin{equation}\n",
      "\\begin{bmatrix}\n",
      "0.58423523& 0.14936733& 0.26639744\\\\\n",
      "0.57854881& 0.39829292& 0.02315827\n",
      "\\end{bmatrix}\n",
      "\\end{equation}"
     ]
    },
    {
     "cell_type": "markdown",
     "metadata": {},
     "source": [
      "### Full network forward step\n",
      "\n",
      "Congratulations, you implemented all the units of a the computational graph. Now your job is to implement the full network using the units you implemented! So the computation you have to do can be shown with the following computational graph:\n",
      "\n",
      "<img src=\"images/nn_forward.png\" />\n",
      "\n",
      "Implement this calculation!\n",
      "\n",
      "<b>REMEMBER: use the units you implemented above (function calls).<b/>"
     ]
    },
    {
     "cell_type": "code",
     "collapsed": false,
     "input": [
      "#GRADED function\n",
      "#Don't change the function name, parameters and return values\n",
      "def nn_forward(parameters, X):\n",
      "    \"\"\"\n",
      "        Calculates a forward step in the network.\n",
      "        Input:\n",
      "            * parameters: dict of parameters.\n",
      "                          parameters[\"W1\"]= the W matrix of first layer\n",
      "                          parameters[\"b4\"]=the bias vector in layer 4\n",
      "            * X: input matrix. Shape (M,K)\n",
      "    \"\"\"\n",
      "    caches = []\n",
      "    L = len(parameters)//2\n",
      "    a_prev = X.T\n",
      "    for i in range(0,L):\n",
      "        (Z, cache) = linear_forward(parameters[\"W\"+str(i+1)],parameters[\"b\"+str(i+1)],a_prev)\n",
      "        a_prev = activation_forward(Z)\n",
      "        caches.append(cache)\n",
      "        \n",
      "    \n",
      "    Z = Z.T\n",
      "    a = softmax(Z)\n",
      "    \n",
      "    ###Start code here\n",
      "    \n",
      "    # Set a_prev to the input!\n",
      "    # In the first node of the computational graph, the input is transposed!\n",
      "    \n",
      "    \n",
      "    # Go trough the nodes of the computational graph, from LEFT to RIGHT\n",
      "    # Always use as the input of current node the ouput of previous node!\n",
      "    # Get the W, b weights from the parameters dictionary\n",
      "    # use linear_forward and activation_forward function to step one in the layer\n",
      "    # append the linear unit's cache to caches list\n",
      "    \n",
      "    # Important: the last layer activation should be softmax! \n",
      "    # Important: Transpose Z (in the last unit)\n",
      "\n",
      "    \n",
      "   \n",
      "        \n",
      "\n",
      "    ###End code here\n",
      "    \n",
      "    return (a,caches)"
     ],
     "language": "python",
     "metadata": {},
     "outputs": [],
     "prompt_number": 20
    },
    {
     "cell_type": "code",
     "collapsed": false,
     "input": [
      "np.random.seed(1)\n",
      "\n",
      "parameters = initialize_weights([3,4,2])\n",
      "\n",
      "x = np.random.randn(2,3)\n",
      "\n",
      "AL, cache = nn_forward(parameters, x)\n",
      "print(AL)\n",
      "\n",
      "\n"
     ],
     "language": "python",
     "metadata": {},
     "outputs": [
      {
       "output_type": "stream",
       "stream": "stdout",
       "text": [
        "[[0.49967587 0.50032413]\n",
        " [0.49966831 0.50033169]]\n"
       ]
      }
     ],
     "prompt_number": 21
    },
    {
     "cell_type": "markdown",
     "metadata": {},
     "source": [
      "<b>Expected output:</b>\n",
      "\\begin{equation}\n",
      "\\begin{bmatrix}\n",
      "0.49970579& 0.50029421\\\\\n",
      "0.49971335& 0.50028665\n",
      "\\end{bmatrix}\n",
      "\\end{equation}"
     ]
    },
    {
     "cell_type": "markdown",
     "metadata": {},
     "source": [
      "## Loss function\n",
      "\n",
      "\n",
      "To calculate the loss function you have to implement the computation in the following graph:\n",
      "<img src=\"images/nn_loss.png\" />"
     ]
    },
    {
     "cell_type": "code",
     "collapsed": false,
     "input": [
      "#GRADED function\n",
      "#Don't change the function name, parameters and return values\n",
      "def crossentropy(P, Y):\n",
      "    \"\"\"\n",
      "        Calculates the crossentropy-loss shown in the computational graph above.\n",
      "        Inputs:\n",
      "                * P the prediction of the network (dimensions above)\n",
      "                * Y the one-hot encoded labels\n",
      "        Outputs:\n",
      "                * The crossentropy between the P and Y\n",
      "    \"\"\"\n",
      "    ### Start code here\n",
      "\n",
      "   \n",
      "    #calculate the coross entropy loss\n",
      "    loss = 0\n",
      "    \n",
      "    for k in range(len(P)):\n",
      "        for l in range(len(P[k])):\n",
      "            loss += -Y[k][l]*np.log(P[k][l])\n",
      "    \n",
      "    loss = loss/len(P)\n",
      "    \n",
      "    ### End code here\n",
      "    return loss"
     ],
     "language": "python",
     "metadata": {},
     "outputs": [],
     "prompt_number": 22
    },
    {
     "cell_type": "code",
     "collapsed": false,
     "input": [
      "np.random.seed(1)\n",
      "parameters = initialize_weights([3,4,2])\n",
      "x = np.random.randn(2,3)\n",
      "AL, cache = nn_forward(parameters, x)\n",
      "y = np.array(([[0,1],[1,0]]))\n",
      "crossentropy(AL,y)"
     ],
     "language": "python",
     "metadata": {},
     "outputs": [
      {
       "metadata": {},
       "output_type": "pyout",
       "prompt_number": 23,
       "text": [
        "0.6931549552268021"
       ]
      }
     ],
     "prompt_number": 23
    },
    {
     "cell_type": "markdown",
     "metadata": {},
     "source": [
      "<b>Expected output:</b>\n",
      "\n",
      "0.6931397896985225"
     ]
    },
    {
     "cell_type": "markdown",
     "metadata": {},
     "source": [
      "## Backward propagation in the network\n",
      "\n",
      "\n",
      "Congratulations! You implemented a whole L layer neural network for classification problems! \n",
      "\n",
      "In the next step you will implement backpropagation to be able to train the network.\n",
      "\n",
      "In the forward propagation you go trough a computational graph from left to right. In the backpropagation you go trough a computational graph from right to left. \n",
      "\n",
      "The computational graph of the backpropagation in $L$ layer neural network is the following.\n",
      "\n",
      "<img src=\"images/NeuralNetworkBackwardPassV3.png\" />\n",
      "\n",
      "To implement this, you will firs implement the different units this calculation needs.\n",
      "\n",
      "### Backpropagation trough non-linearity"
     ]
    },
    {
     "cell_type": "markdown",
     "metadata": {},
     "source": [
      "### Loss and softmax step (last node on the graph)\n",
      "\n",
      "\n",
      "Because we go trough on the graph from the right to the left the first node is the $\\frac{\\partial L}{\\partial Z^{[L]}}$ unit.  When we use softmax activation and cross entropy functions the derivate will be simple in the top of the network. Implement this calculation as shown in the computational graph:\n",
      "<img src=\"images/nn_softloss_backward.png\" />"
     ]
    },
    {
     "cell_type": "code",
     "collapsed": false,
     "input": [
      "#GRADED function\n",
      "#Don't change the function name, parameters and return values\n",
      "def losssoftmax_backward(P,Y):\n",
      "    \"\"\"\n",
      "        Calculates the dLdZ derivate which is in the top of the network. \n",
      "        Inputs:\n",
      "                * P the prediction of the network\n",
      "                * Y the labels\n",
      "        Outputs:\n",
      "                * dLdZ the derivate of the L loss function \n",
      "    \"\"\"\n",
      "    ###Start code here\n",
      "    \n",
      "    #implement the calculation shown in the graph\n",
      "    dLdZ = np.divide(1.0,len(P))*(np.subtract(P,Y)).T\n",
      "    \n",
      "    ###End code here\n",
      "    return dLdZ"
     ],
     "language": "python",
     "metadata": {},
     "outputs": [],
     "prompt_number": 24
    },
    {
     "cell_type": "code",
     "collapsed": false,
     "input": [
      "np.random.seed(1)\n",
      "parameters = initialize_weights([3,4,2])\n",
      "x = np.random.randn(3,3)\n",
      "AL, cache = nn_forward(parameters, x)\n",
      "y = np.array(([[0,1],[1,0],[1,0]]))\n",
      "\n",
      "losssoftmax_backward(AL,y)"
     ],
     "language": "python",
     "metadata": {},
     "outputs": [
      {
       "metadata": {},
       "output_type": "pyout",
       "prompt_number": 25,
       "text": [
        "array([[ 0.16655862, -0.16677723, -0.16676625],\n",
        "       [-0.16655862,  0.16677723,  0.16676625]])"
       ]
      }
     ],
     "prompt_number": 25
    },
    {
     "cell_type": "markdown",
     "metadata": {},
     "source": [
      "<b>Expected output:</b>\n",
      "\\begin{equation}\n",
      "\\begin{bmatrix}\n",
      "0.1665686 & -0.16676222& -0.16677319\\\\\n",
      "       -0.1665686&  0.16676222&  0.16677319\n",
      "\\end{bmatrix}\n",
      "\\end{equation}"
     ]
    },
    {
     "cell_type": "markdown",
     "metadata": {},
     "source": [
      "### General non-linear backward step in the network\n",
      "\n",
      "Implement a backward step on non-linearity in the model.  This computation is shown in the following graph:\n",
      "\n",
      "<img src=\"images/nn_nonlin_backward.png\" />"
     ]
    },
    {
     "cell_type": "code",
     "collapsed": false,
     "input": [
      "#GRADED function\n",
      "#Don't change the function name, parameters and return values\n",
      "\n",
      "def activation_backward(dLda, cache):\n",
      "    \"\"\"\n",
      "        Calculates the backward step in a non-linearity.\n",
      "        Inputs:\n",
      "            * dLda: The derivates above the current unit.\n",
      "            * cache: The cache from the forward step.\n",
      "    \"\"\"\n",
      "    \n",
      "    ###Start code here\n",
      "    \n",
      "    # Use the cache from the foward step\n",
      "    # Calculate the g'(Z): the sigmoid derivate (the derivate is: sigmoid(Z)*(1-sigmoid(Z)) )\n",
      "    # Do the calculation shown in the graph.\n",
      "\n",
      "    Z = cache[0]\n",
      "    dLdZ = np.zeros(Z.shape)\n",
      "    \n",
      "    for k in range(len(Z)):\n",
      "        for l in range(len(Z[k])):\n",
      "            dLdZ[k][l] = 1./(1+np.exp(-Z[k][l]))*(1-1./(1+np.exp(-Z[k][l])))*dLda[k][l]\n",
      "    \n",
      "    ###End code here\n",
      "    return dLdZ"
     ],
     "language": "python",
     "metadata": {},
     "outputs": [],
     "prompt_number": 26
    },
    {
     "cell_type": "code",
     "collapsed": false,
     "input": [
      "np.random.seed(1)\n",
      "Z      = np.random.randn(4,2)\n",
      "W      = np.random.randn(4,3)\n",
      "a_prev = np.random.randn(3,2)\n",
      "dLda   = np.random.randn(4,2)\n",
      "\n",
      "dLdZ = activation_backward(dLda, (Z, W, a_prev))\n",
      "\n",
      "dLdZ\n"
     ],
     "language": "python",
     "metadata": {},
     "outputs": [
      {
       "metadata": {},
       "output_type": "pyout",
       "prompt_number": 27,
       "text": [
        "array([[-0.01689878, -0.2133506 ],\n",
        "       [-0.06251018,  0.10071241],\n",
        "       [-0.14419048, -0.03281763],\n",
        "       [-0.08698937, -0.18342292]])"
       ]
      }
     ],
     "prompt_number": 27
    },
    {
     "cell_type": "markdown",
     "metadata": {},
     "source": [
      "<b>Expected output:</b>\n",
      "\\begin{equation}\n",
      "\\begin{bmatrix}\n",
      "-0.01689878&-0.2133506 \\\\\n",
      "       -0.06251018& 0.10071241\\\\\n",
      "       -0.14419048& -0.03281763\\\\\n",
      "       -0.08698937& -0.18342292\n",
      "\\end{bmatrix}\n",
      "\\end{equation}"
     ]
    },
    {
     "cell_type": "markdown",
     "metadata": {},
     "source": [
      "\n",
      "\n",
      "### Backpropagation trough linear unit\n",
      "\n",
      "\n",
      "Implement the backpropagation trough a linear unit. This calculation is shown as the following graph:\n",
      "\n",
      "<img src=\"images/nn_linear_backward.png\" />"
     ]
    },
    {
     "cell_type": "code",
     "collapsed": false,
     "input": [
      "#GRADED function\n",
      "#Don't change the function name, parameters and return values\n",
      "def linear_backward(dLdZ, cache):\n",
      "    \"\"\"\n",
      "        Implements the backward step on linear unit as shown in the graph above/\n",
      "        Inputs: \n",
      "                * dLdZ:  the derivate from the next node\n",
      "                * cache: the cache form froward step\n",
      "        Returns:\n",
      "                * dLda\n",
      "                * dLdW\n",
      "                * dLdb\n",
      "    \"\"\"\n",
      "    \n",
      "    ###Start code here\n",
      "    \n",
      "    W = cache[1]\n",
      "    a_prev = cache[2]\n",
      "    \n",
      "    # Use the cache from the forward step\n",
      "    #Calculate dLda as shown in the graph\n",
      "    \n",
      "    dLda = np.dot(W.T, dLdZ)\n",
      "  \n",
      "    dLdW = np.dot(dLdZ, a_prev.T)\n",
      "  \n",
      "    dLdb = np.zeros((len(dLdZ),1))\n",
      "    for k in range(len(dLdZ)):\n",
      "        dLdb[k] = sum(dLdZ[k])\n",
      "    \n",
      "    ###End code here\n",
      "    return (dLda, dLdW, dLdb)"
     ],
     "language": "python",
     "metadata": {},
     "outputs": [],
     "prompt_number": 28
    },
    {
     "cell_type": "code",
     "collapsed": false,
     "input": [
      "np.random.seed(1)\n",
      "parameters = initialize_weights([3,2,2])\n",
      "\n",
      "x = np.random.randn(3,3)\n",
      "AL, cache = nn_forward(parameters, x)\n",
      "y = np.array(([[0,1],[1,0],[1,0]]))\n",
      "\n",
      "\n",
      "dLdZ=losssoftmax_backward(AL,y)\n",
      "\n",
      "dLda, dLdW, dLdb = linear_backward(dLdZ, cache[-1])\n",
      "print(\"dLda=\",dLda)\n",
      "print(\"dLdW=\",dLdW)\n",
      "print(\"dLdb=\",dLdb)\n"
     ],
     "language": "python",
     "metadata": {},
     "outputs": [
      {
       "output_type": "stream",
       "stream": "stdout",
       "text": [
        "dLda= [[ 0.00238192 -0.00237095 -0.00237084]\n",
        " [-0.00085508  0.00085114  0.0008511 ]]\n",
        "dLdW= [[-0.08095971 -0.08519952]\n",
        " [ 0.08095971  0.08519952]]\n",
        "dLdb= [[-0.16551512]\n",
        " [ 0.16551512]]\n"
       ]
      }
     ],
     "prompt_number": 29
    },
    {
     "cell_type": "markdown",
     "metadata": {},
     "source": [
      "<b>Expected output</b>\n",
      "\n",
      " \\begin{equation}dLda= \\begin{bmatrix}0.00238152&-0.00237077& -0.00237088\\\\\n",
      " -0.00085494 & 0.00085108 & 0.00085112\n",
      " \\end{bmatrix}\n",
      " \\end{equation}\n",
      " \\begin{equation}dLdW=\\begin{bmatrix}-0.08456424&-0.08032504\\\\\n",
      " 0.08456424 & 0.08032504\\\\\n",
      " \\end{bmatrix}\\end{equation}\n",
      " \\begin{equation}dLdb=\\begin{bmatrix}-0.16553337 \\\\ 0.16553337\\end{bmatrix}\\end{equation}"
     ]
    },
    {
     "cell_type": "markdown",
     "metadata": {},
     "source": [
      "### Backpropagation trough the network\n",
      "\n",
      "\n",
      "Using the units you already implemented, implement the full backward pass trough the network as shown in the following graph:\n",
      "\n",
      "<img src=\"images/NeuralNetworkBackwardPassV3.png\" />\n"
     ]
    },
    {
     "cell_type": "code",
     "collapsed": false,
     "input": [
      "#GRADED function\n",
      "#Don't change the function name, parameters and return values\n",
      "def nn_backward(X, Y, P, caches):\n",
      "    \"\"\"\n",
      "        Calculates the backward pass for the network as shown in the computational graph above.\n",
      "        Inputs:\n",
      "                * X: The input examples: (M,N) = (number_of_examples, dimensionality_of_data)\n",
      "                * Y: The one-hot encoded labels: (M,K) = (number_of_examples, number_of_categories)\n",
      "                * P: The network prediction: (M,K)\n",
      "                * caches: the cache from forward step\n",
      "        Returns:\n",
      "                * derivates: dictionary containing all the derivates\n",
      "                             derivates[\"dLdW2\"] = the derivate of the loss L regarding to the weight matrix W of 2. layer\n",
      "    \"\"\"\n",
      "    derivates = {}\n",
      "  \n",
      "    dLdZ = losssoftmax_backward(P, Y)\n",
      "    \n",
      "    i = len(caches)\n",
      "    \n",
      "    dLdW_string = \"dLdW\"+str(i)\n",
      "    dLdb_string = 'dLdb'+str(i)\n",
      "    \n",
      "    (dLda, dLdW, dLdb) = linear_backward(dLdZ, caches[i-1])\n",
      "    dLdZ = activation_backward(dLda, caches[i-1])\n",
      "    derivates.update({dLdW_string: dLdW, dLdb_string: dLdb})\n",
      "    i = i - 1\n",
      "\n",
      "    for element in caches[1:]:\n",
      "        dLdZ = activation_backward(dLda, caches[i-1])\n",
      "        (dLda, dLdW, dLdb) = linear_backward(dLdZ, caches[i-1])\n",
      "        derivates.update({dLdW_string: dLdW, dLdb_string: dLdb})\n",
      "        i = i - 1\n",
      "    return derivates"
     ],
     "language": "python",
     "metadata": {},
     "outputs": [],
     "prompt_number": 30
    },
    {
     "cell_type": "code",
     "collapsed": false,
     "input": [
      "np.random.seed(1)\n",
      "parameters = initialize_weights([3,2,2])\n",
      "x = np.random.randn(4,3)\n",
      "y = (np.random.randn(4,2)>0.5).astype(int)\n",
      "AL, caches = nn_forward(parameters, x)\n",
      "\n",
      "nn_backward(x,y, AL, caches)"
     ],
     "language": "python",
     "metadata": {},
     "outputs": [
      {
       "metadata": {},
       "output_type": "pyout",
       "prompt_number": 31,
       "text": [
        "{'dLdW2': array([[-6.21487264e-04, -2.36563074e-04,  1.23496218e-03],\n",
        "        [ 3.60961474e-04, -1.49180228e-05, -4.73934376e-04]]),\n",
        " 'dLdb2': array([[ 4.34323857e-06],\n",
        "        [-1.51825743e-06]])}"
       ]
      }
     ],
     "prompt_number": 31
    },
    {
     "cell_type": "markdown",
     "metadata": {},
     "source": [
      "\\begin{equation}\n",
      "dLdW1 = \\begin{bmatrix}\n",
      "    -6.21632506e-04& -2.36318550e-04&  1.23490272e-03\\\\\n",
      "     3.61013616e-04& -1.50058030e-05& -4.73913042e-04\n",
      "     \\end{bmatrix}\n",
      "\\end{equation}\n",
      "     \\begin{equation}\n",
      "     dLdW2=\\begin{bmatrix}\n",
      "  0.00113032&  0.00250435\\\\\n",
      "       0.00110121& -0.00371535\n",
      "       \\end{bmatrix}\n",
      "       \\end{equation}\n",
      " \\begin{equation}\n",
      " dLdb1=\\begin{bmatrix}4.25433282e-06& -1.48633758e-06\n",
      " \\end{bmatrix}\\end{equation}\n",
      " \\begin{equation}\n",
      " dLdb2=\\begin{bmatrix} 0.00112994&-0.00112994\\end{bmatrix}\\end{equation}"
     ]
    },
    {
     "cell_type": "markdown",
     "metadata": {},
     "source": [
      "## Training the network\n",
      "\n",
      "Congratulation! You implemented the forward and backward calculation of a neural network. Training a network now it's very easy.\n",
      "\n",
      "### Gradient descent\n",
      "\n",
      "First, let's implement gradient descent for neural networks. The gradient descent finds the weights of the network using the following algorithm:\n",
      "\n",
      "```pseudo\n",
      "for every W,b:\n",
      "    W = random(W_shape)\n",
      "    b = random(b_shape)\n",
      "repeat{\n",
      "    for every W,b:\n",
      "        dLdW, dLdb = get_derivatives(X,Y, W, b)\n",
      "        W = W - alpha * dLdW\n",
      "        b = b - alpha * dLdb\n",
      "}\n",
      "```"
     ]
    },
    {
     "cell_type": "code",
     "collapsed": false,
     "input": [
      "#GRADED function\n",
      "#Don't change the function name, parameters and return values\n",
      "def nn_train_gd(X, Y, layers, n_iter=1000, lr=0.01):\n",
      "    \"\"\"\n",
      "        Creates and trains a neural network with gradient descent.\n",
      "        Inputs:\n",
      "                * X: the images (number_of_examples, 28*28)\n",
      "                * Y: the labels (number_of_examples, 10)\n",
      "                * layers: the definition of neural networks\n",
      "                          [28*28, 100, 10]: two layers, 100 neuron in first layer, and 10 neurons in the last layer\n",
      "                          the first element of this list must be 28*28\n",
      "                          the number of neurons in the last layer must be the same as Y.shape[1]\n",
      "                * n_iter: how many iteration we want with gradient descent\n",
      "                * lr:     learning rate\n",
      "        Returns:\n",
      "                * parameters: the trained parameters of the network\n",
      "                * losses:     the loss values\n",
      "    \"\"\"\n",
      "    \n",
      "    L = len(layers)\n",
      "    losses = []\n",
      "    \n",
      "    ###Start code here\n",
      "    \n",
      "    #initialize the weights of the network\n",
      "    parameters = initialize_weights(layers)\n",
      "    \n",
      "    # In one iteration of gradient descent:\n",
      "      # Do a forward step in the network. Use nn_forward\n",
      "      # Calculate the derivates doing a backward step in the network. Use nn_backward\n",
      "      # Update the weights\n",
      "      # Calculate the loss. Use crossentropy. (and save it to losses)\n",
      "\n",
      "    for i in range(n_iter):\n",
      "        (P, caches) = nn_forward(parameters, X)\n",
      "        for element in caches:\n",
      "            for thing in element:\n",
      "                print(thing.shape)\n",
      "        derivatives = nn_backward(X, Y, P, caches)\n",
      "        for key, value in derivatives.items():\n",
      "            parameters[key[3:]] -=lr*value\n",
      "        losses.append(crossentropy(P, Y))\n",
      "    \n",
      "    ###End code here\n",
      "    return parameters,losses"
     ],
     "language": "python",
     "metadata": {},
     "outputs": [],
     "prompt_number": 32
    },
    {
     "cell_type": "code",
     "collapsed": false,
     "input": [
      "# This will take a while\n",
      "parameters,losses = nn_train_gd(x_train, y_train_oh, [28*28, 100, 10], n_iter=3, lr=0.01)"
     ],
     "language": "python",
     "metadata": {},
     "outputs": [
      {
       "output_type": "stream",
       "stream": "stdout",
       "text": [
        "(100, 60000)\n",
        "(100, 784)\n",
        "(784, 60000)\n",
        "(100, 784)\n",
        "(10, 60000)\n",
        "(10, 100)\n",
        "(100, 60000)\n",
        "(10, 100)\n"
       ]
      },
      {
       "ename": "ValueError",
       "evalue": "operands could not be broadcast together with shapes (10,100) (100,784) (10,100) ",
       "output_type": "pyerr",
       "traceback": [
        "\u001b[0;31m---------------------------------------------------------------------------\u001b[0m\n\u001b[0;31mValueError\u001b[0m                                Traceback (most recent call last)",
        "\u001b[0;32m<ipython-input-33-0ffb61412dfd>\u001b[0m in \u001b[0;36m<module>\u001b[0;34m()\u001b[0m\n\u001b[1;32m      1\u001b[0m \u001b[0;31m# This will take a while\u001b[0m\u001b[0;34m\u001b[0m\u001b[0;34m\u001b[0m\u001b[0m\n\u001b[0;32m----> 2\u001b[0;31m \u001b[0mparameters\u001b[0m\u001b[0;34m,\u001b[0m\u001b[0mlosses\u001b[0m \u001b[0;34m=\u001b[0m \u001b[0mnn_train_gd\u001b[0m\u001b[0;34m(\u001b[0m\u001b[0mx_train\u001b[0m\u001b[0;34m,\u001b[0m \u001b[0my_train_oh\u001b[0m\u001b[0;34m,\u001b[0m \u001b[0;34m[\u001b[0m\u001b[0;36m28\u001b[0m\u001b[0;34m*\u001b[0m\u001b[0;36m28\u001b[0m\u001b[0;34m,\u001b[0m \u001b[0;36m100\u001b[0m\u001b[0;34m,\u001b[0m \u001b[0;36m10\u001b[0m\u001b[0;34m]\u001b[0m\u001b[0;34m,\u001b[0m \u001b[0mn_iter\u001b[0m\u001b[0;34m=\u001b[0m\u001b[0;36m3\u001b[0m\u001b[0;34m,\u001b[0m \u001b[0mlr\u001b[0m\u001b[0;34m=\u001b[0m\u001b[0;36m0.01\u001b[0m\u001b[0;34m)\u001b[0m\u001b[0;34m\u001b[0m\u001b[0m\n\u001b[0m",
        "\u001b[0;32m<ipython-input-32-f8b491e46419>\u001b[0m in \u001b[0;36mnn_train_gd\u001b[0;34m(X, Y, layers, n_iter, lr)\u001b[0m\n\u001b[1;32m     39\u001b[0m         \u001b[0mderivatives\u001b[0m \u001b[0;34m=\u001b[0m \u001b[0mnn_backward\u001b[0m\u001b[0;34m(\u001b[0m\u001b[0mX\u001b[0m\u001b[0;34m,\u001b[0m \u001b[0mY\u001b[0m\u001b[0;34m,\u001b[0m \u001b[0mP\u001b[0m\u001b[0;34m,\u001b[0m \u001b[0mcaches\u001b[0m\u001b[0;34m)\u001b[0m\u001b[0;34m\u001b[0m\u001b[0m\n\u001b[1;32m     40\u001b[0m         \u001b[0;32mfor\u001b[0m \u001b[0mkey\u001b[0m\u001b[0;34m,\u001b[0m \u001b[0mvalue\u001b[0m \u001b[0;32min\u001b[0m \u001b[0mderivatives\u001b[0m\u001b[0;34m.\u001b[0m\u001b[0mitems\u001b[0m\u001b[0;34m(\u001b[0m\u001b[0;34m)\u001b[0m\u001b[0;34m:\u001b[0m\u001b[0;34m\u001b[0m\u001b[0m\n\u001b[0;32m---> 41\u001b[0;31m             \u001b[0mparameters\u001b[0m\u001b[0;34m[\u001b[0m\u001b[0mkey\u001b[0m\u001b[0;34m[\u001b[0m\u001b[0;36m3\u001b[0m\u001b[0;34m:\u001b[0m\u001b[0;34m]\u001b[0m\u001b[0;34m]\u001b[0m \u001b[0;34m-=\u001b[0m\u001b[0mlr\u001b[0m\u001b[0;34m*\u001b[0m\u001b[0mvalue\u001b[0m\u001b[0;34m\u001b[0m\u001b[0m\n\u001b[0m\u001b[1;32m     42\u001b[0m         \u001b[0mlosses\u001b[0m\u001b[0;34m.\u001b[0m\u001b[0mappend\u001b[0m\u001b[0;34m(\u001b[0m\u001b[0mcrossentropy\u001b[0m\u001b[0;34m(\u001b[0m\u001b[0mP\u001b[0m\u001b[0;34m,\u001b[0m \u001b[0mY\u001b[0m\u001b[0;34m)\u001b[0m\u001b[0;34m)\u001b[0m\u001b[0;34m\u001b[0m\u001b[0m\n\u001b[1;32m     43\u001b[0m \u001b[0;34m\u001b[0m\u001b[0m\n",
        "\u001b[0;31mValueError\u001b[0m: operands could not be broadcast together with shapes (10,100) (100,784) (10,100) "
       ]
      }
     ],
     "prompt_number": 33
    },
    {
     "cell_type": "code",
     "collapsed": false,
     "input": [
      "P, _ = nn_forward(parameters, x_train)"
     ],
     "language": "python",
     "metadata": {},
     "outputs": [
      {
       "ename": "ValueError",
       "evalue": "shapes (2,3) and (784,60000) not aligned: 3 (dim 1) != 784 (dim 0)",
       "output_type": "pyerr",
       "traceback": [
        "\u001b[0;31m---------------------------------------------------------------------------\u001b[0m\n\u001b[0;31mValueError\u001b[0m                                Traceback (most recent call last)",
        "\u001b[0;32m<ipython-input-34-53994812b5a0>\u001b[0m in \u001b[0;36m<module>\u001b[0;34m()\u001b[0m\n\u001b[0;32m----> 1\u001b[0;31m \u001b[0mP\u001b[0m\u001b[0;34m,\u001b[0m \u001b[0m_\u001b[0m \u001b[0;34m=\u001b[0m \u001b[0mnn_forward\u001b[0m\u001b[0;34m(\u001b[0m\u001b[0mparameters\u001b[0m\u001b[0;34m,\u001b[0m \u001b[0mx_train\u001b[0m\u001b[0;34m)\u001b[0m\u001b[0;34m\u001b[0m\u001b[0m\n\u001b[0m",
        "\u001b[0;32m<ipython-input-20-9b0003732c40>\u001b[0m in \u001b[0;36mnn_forward\u001b[0;34m(parameters, X)\u001b[0m\n\u001b[1;32m     14\u001b[0m     \u001b[0ma_prev\u001b[0m \u001b[0;34m=\u001b[0m \u001b[0mX\u001b[0m\u001b[0;34m.\u001b[0m\u001b[0mT\u001b[0m\u001b[0;34m\u001b[0m\u001b[0m\n\u001b[1;32m     15\u001b[0m     \u001b[0;32mfor\u001b[0m \u001b[0mi\u001b[0m \u001b[0;32min\u001b[0m \u001b[0mrange\u001b[0m\u001b[0;34m(\u001b[0m\u001b[0;36m0\u001b[0m\u001b[0;34m,\u001b[0m\u001b[0mL\u001b[0m\u001b[0;34m)\u001b[0m\u001b[0;34m:\u001b[0m\u001b[0;34m\u001b[0m\u001b[0m\n\u001b[0;32m---> 16\u001b[0;31m         \u001b[0;34m(\u001b[0m\u001b[0mZ\u001b[0m\u001b[0;34m,\u001b[0m \u001b[0mcache\u001b[0m\u001b[0;34m)\u001b[0m \u001b[0;34m=\u001b[0m \u001b[0mlinear_forward\u001b[0m\u001b[0;34m(\u001b[0m\u001b[0mparameters\u001b[0m\u001b[0;34m[\u001b[0m\u001b[0;34m\"W\"\u001b[0m\u001b[0;34m+\u001b[0m\u001b[0mstr\u001b[0m\u001b[0;34m(\u001b[0m\u001b[0mi\u001b[0m\u001b[0;34m+\u001b[0m\u001b[0;36m1\u001b[0m\u001b[0;34m)\u001b[0m\u001b[0;34m]\u001b[0m\u001b[0;34m,\u001b[0m\u001b[0mparameters\u001b[0m\u001b[0;34m[\u001b[0m\u001b[0;34m\"b\"\u001b[0m\u001b[0;34m+\u001b[0m\u001b[0mstr\u001b[0m\u001b[0;34m(\u001b[0m\u001b[0mi\u001b[0m\u001b[0;34m+\u001b[0m\u001b[0;36m1\u001b[0m\u001b[0;34m)\u001b[0m\u001b[0;34m]\u001b[0m\u001b[0;34m,\u001b[0m\u001b[0ma_prev\u001b[0m\u001b[0;34m)\u001b[0m\u001b[0;34m\u001b[0m\u001b[0m\n\u001b[0m\u001b[1;32m     17\u001b[0m         \u001b[0ma_prev\u001b[0m \u001b[0;34m=\u001b[0m \u001b[0mactivation_forward\u001b[0m\u001b[0;34m(\u001b[0m\u001b[0mZ\u001b[0m\u001b[0;34m)\u001b[0m\u001b[0;34m\u001b[0m\u001b[0m\n\u001b[1;32m     18\u001b[0m         \u001b[0mcaches\u001b[0m\u001b[0;34m.\u001b[0m\u001b[0mappend\u001b[0m\u001b[0;34m(\u001b[0m\u001b[0mcache\u001b[0m\u001b[0;34m)\u001b[0m\u001b[0;34m\u001b[0m\u001b[0m\n",
        "\u001b[0;32m<ipython-input-14-99cb481d871a>\u001b[0m in \u001b[0;36mlinear_forward\u001b[0;34m(W, b, a_prev)\u001b[0m\n\u001b[1;32m     15\u001b[0m \u001b[0;34m\u001b[0m\u001b[0m\n\u001b[1;32m     16\u001b[0m     \u001b[0;31m# Calculate Z\u001b[0m\u001b[0;34m\u001b[0m\u001b[0;34m\u001b[0m\u001b[0m\n\u001b[0;32m---> 17\u001b[0;31m     \u001b[0mZ\u001b[0m \u001b[0;34m=\u001b[0m \u001b[0mnp\u001b[0m\u001b[0;34m.\u001b[0m\u001b[0madd\u001b[0m\u001b[0;34m(\u001b[0m\u001b[0mnp\u001b[0m\u001b[0;34m.\u001b[0m\u001b[0mmatmul\u001b[0m\u001b[0;34m(\u001b[0m\u001b[0mW\u001b[0m\u001b[0;34m,\u001b[0m\u001b[0ma_prev\u001b[0m\u001b[0;34m)\u001b[0m\u001b[0;34m,\u001b[0m\u001b[0mb\u001b[0m\u001b[0;34m)\u001b[0m\u001b[0;34m\u001b[0m\u001b[0m\n\u001b[0m\u001b[1;32m     18\u001b[0m \u001b[0;34m\u001b[0m\u001b[0m\n\u001b[1;32m     19\u001b[0m     \u001b[0;31m# Create a cache for backpropagation\u001b[0m\u001b[0;34m\u001b[0m\u001b[0;34m\u001b[0m\u001b[0m\n",
        "\u001b[0;31mValueError\u001b[0m: shapes (2,3) and (784,60000) not aligned: 3 (dim 1) != 784 (dim 0)"
       ]
      }
     ],
     "prompt_number": 34
    },
    {
     "cell_type": "code",
     "collapsed": false,
     "input": [
      "accuracy(y_train_oh, P)"
     ],
     "language": "python",
     "metadata": {},
     "outputs": []
    },
    {
     "cell_type": "markdown",
     "metadata": {},
     "source": [
      "### Mini-batch gradient descent\n",
      "\n",
      "As you can see above, taking one step with gradient descent takes a lot of time, even with this smaller dataset (60k images). In deep learning instead of gradient descent we use mini-batch gradient descent or some more modern version of it. \n",
      "\n",
      "In mini-batch gradient descent we don't use the whole dataset in every iteration, instead we use a smaller sample (mini-batch). We iterate trough the dataset with these mini-batches, calculate the derivatives using these mini-batches and do a gradient descent step. After we went trough the dataset (we completed one epoch) we repeat the process for some epochs.\n",
      "\n",
      "So the mini-batch gradient descent algorithm is the following:\n",
      "```pseudo\n",
      "for every W,b:\n",
      "    W = random(W_shape)\n",
      "    b = random(b_shape)\n",
      "repeat{\n",
      "    for mini_batch_X, mini_batch_Y from X,Y:\n",
      "        for every W,b:\n",
      "            dLdW, dLdb = get_derivatives(mini_batch_X, mini_batch_Y, W,b)\n",
      "            W = W - alpha * dLdW\n",
      "            b = b - alpha * dLdb\n",
      "}\n",
      "```"
     ]
    },
    {
     "cell_type": "code",
     "collapsed": false,
     "input": [
      "#GRADED function\n",
      "#Don't change the function name, parameters and return values\n",
      "def nn_train_sgd(X, Y, layers, batch_size=100, epochs=100, lr=0.01):\n",
      "    \"\"\"\n",
      "        Creates and trains a neural network with gradient descent.\n",
      "        Inputs:\n",
      "                * X: the images (number_of_examples, 28*28)\n",
      "                * Y: the labels (number_of_examples, 10)\n",
      "                * layers: the definition of neural networks\n",
      "                          [28*28, 100, 10]: two layers, 100 neuron in first layer, and 10 neurons in the last layer\n",
      "                          the first element of this list must be 28*28\n",
      "                          the number of neurons in the last layer must be the same as Y.shape[1]\n",
      "                * n_iter: how many iteration we want\n",
      "                * lr:     learning rate\n",
      "        Returns:\n",
      "                * parameters: the trained parameters of the network\n",
      "                * losses:     the loss values\n",
      "    \"\"\"\n",
      "   \n",
      "    losses = []\n",
      "    \n",
      "    B = np.zeros((round(len(X)/batch_size)-1, batch_size, layers[0]))\n",
      "    C = np.zeros((round(len(X)/batch_size)-1, batch_size, 10))\n",
      "    for i in range((round(len(X)/batch_size)-1)):\n",
      "        B[i] = X[batch_size*i:batch_size*(i+1)]\n",
      "        C[i] = Y[batch_size*i:batch_size*(i+1)]\n",
      "            \n",
      "    for epoch in range(epochs):\n",
      "        for batch_X, batch_Y in zip(B,C):\n",
      "            (P, caches) = nn_forward(parameters, batch_X)\n",
      "            derivatives = nn_backward(batch_X, batch_Y, P, caches)\n",
      "            for key, value in derivatives.items():\n",
      "                parameters[key[3:]] -=lr*value\n",
      "            losses.append(crossentropy(P, batch_Y))\n",
      "\n",
      "    ###End code here\n",
      "    return parameters,losses\n",
      "    ###End code here\n",
      "    return parameters,losses"
     ],
     "language": "python",
     "metadata": {},
     "outputs": [],
     "prompt_number": 35
    },
    {
     "cell_type": "code",
     "collapsed": false,
     "input": [
      "parameters,losses = nn_train_sgd(x_train, y_train_oh, [28*28, 100, 10], batch_size=100, epochs=20, lr=0.01)"
     ],
     "language": "python",
     "metadata": {},
     "outputs": [
      {
       "ename": "ValueError",
       "evalue": "shapes (2,3) and (784,100) not aligned: 3 (dim 1) != 784 (dim 0)",
       "output_type": "pyerr",
       "traceback": [
        "\u001b[0;31m---------------------------------------------------------------------------\u001b[0m\n\u001b[0;31mValueError\u001b[0m                                Traceback (most recent call last)",
        "\u001b[0;32m<ipython-input-36-81579a03c318>\u001b[0m in \u001b[0;36m<module>\u001b[0;34m()\u001b[0m\n\u001b[0;32m----> 1\u001b[0;31m \u001b[0mparameters\u001b[0m\u001b[0;34m,\u001b[0m\u001b[0mlosses\u001b[0m \u001b[0;34m=\u001b[0m \u001b[0mnn_train_sgd\u001b[0m\u001b[0;34m(\u001b[0m\u001b[0mx_train\u001b[0m\u001b[0;34m,\u001b[0m \u001b[0my_train_oh\u001b[0m\u001b[0;34m,\u001b[0m \u001b[0;34m[\u001b[0m\u001b[0;36m28\u001b[0m\u001b[0;34m*\u001b[0m\u001b[0;36m28\u001b[0m\u001b[0;34m,\u001b[0m \u001b[0;36m100\u001b[0m\u001b[0;34m,\u001b[0m \u001b[0;36m10\u001b[0m\u001b[0;34m]\u001b[0m\u001b[0;34m,\u001b[0m \u001b[0mbatch_size\u001b[0m\u001b[0;34m=\u001b[0m\u001b[0;36m100\u001b[0m\u001b[0;34m,\u001b[0m \u001b[0mepochs\u001b[0m\u001b[0;34m=\u001b[0m\u001b[0;36m20\u001b[0m\u001b[0;34m,\u001b[0m \u001b[0mlr\u001b[0m\u001b[0;34m=\u001b[0m\u001b[0;36m0.01\u001b[0m\u001b[0;34m)\u001b[0m\u001b[0;34m\u001b[0m\u001b[0m\n\u001b[0m",
        "\u001b[0;32m<ipython-input-35-989e00270edd>\u001b[0m in \u001b[0;36mnn_train_sgd\u001b[0;34m(X, Y, layers, batch_size, epochs, lr)\u001b[0m\n\u001b[1;32m     28\u001b[0m     \u001b[0;32mfor\u001b[0m \u001b[0mepoch\u001b[0m \u001b[0;32min\u001b[0m \u001b[0mrange\u001b[0m\u001b[0;34m(\u001b[0m\u001b[0mepochs\u001b[0m\u001b[0;34m)\u001b[0m\u001b[0;34m:\u001b[0m\u001b[0;34m\u001b[0m\u001b[0m\n\u001b[1;32m     29\u001b[0m         \u001b[0;32mfor\u001b[0m \u001b[0mbatch_X\u001b[0m\u001b[0;34m,\u001b[0m \u001b[0mbatch_Y\u001b[0m \u001b[0;32min\u001b[0m \u001b[0mzip\u001b[0m\u001b[0;34m(\u001b[0m\u001b[0mB\u001b[0m\u001b[0;34m,\u001b[0m\u001b[0mC\u001b[0m\u001b[0;34m)\u001b[0m\u001b[0;34m:\u001b[0m\u001b[0;34m\u001b[0m\u001b[0m\n\u001b[0;32m---> 30\u001b[0;31m             \u001b[0;34m(\u001b[0m\u001b[0mP\u001b[0m\u001b[0;34m,\u001b[0m \u001b[0mcaches\u001b[0m\u001b[0;34m)\u001b[0m \u001b[0;34m=\u001b[0m \u001b[0mnn_forward\u001b[0m\u001b[0;34m(\u001b[0m\u001b[0mparameters\u001b[0m\u001b[0;34m,\u001b[0m \u001b[0mbatch_X\u001b[0m\u001b[0;34m)\u001b[0m\u001b[0;34m\u001b[0m\u001b[0m\n\u001b[0m\u001b[1;32m     31\u001b[0m             \u001b[0mderivatives\u001b[0m \u001b[0;34m=\u001b[0m \u001b[0mnn_backward\u001b[0m\u001b[0;34m(\u001b[0m\u001b[0mbatch_X\u001b[0m\u001b[0;34m,\u001b[0m \u001b[0mbatch_Y\u001b[0m\u001b[0;34m,\u001b[0m \u001b[0mP\u001b[0m\u001b[0;34m,\u001b[0m \u001b[0mcaches\u001b[0m\u001b[0;34m)\u001b[0m\u001b[0;34m\u001b[0m\u001b[0m\n\u001b[1;32m     32\u001b[0m             \u001b[0;32mfor\u001b[0m \u001b[0mkey\u001b[0m\u001b[0;34m,\u001b[0m \u001b[0mvalue\u001b[0m \u001b[0;32min\u001b[0m \u001b[0mderivatives\u001b[0m\u001b[0;34m.\u001b[0m\u001b[0mitems\u001b[0m\u001b[0;34m(\u001b[0m\u001b[0;34m)\u001b[0m\u001b[0;34m:\u001b[0m\u001b[0;34m\u001b[0m\u001b[0m\n",
        "\u001b[0;32m<ipython-input-20-9b0003732c40>\u001b[0m in \u001b[0;36mnn_forward\u001b[0;34m(parameters, X)\u001b[0m\n\u001b[1;32m     14\u001b[0m     \u001b[0ma_prev\u001b[0m \u001b[0;34m=\u001b[0m \u001b[0mX\u001b[0m\u001b[0;34m.\u001b[0m\u001b[0mT\u001b[0m\u001b[0;34m\u001b[0m\u001b[0m\n\u001b[1;32m     15\u001b[0m     \u001b[0;32mfor\u001b[0m \u001b[0mi\u001b[0m \u001b[0;32min\u001b[0m \u001b[0mrange\u001b[0m\u001b[0;34m(\u001b[0m\u001b[0;36m0\u001b[0m\u001b[0;34m,\u001b[0m\u001b[0mL\u001b[0m\u001b[0;34m)\u001b[0m\u001b[0;34m:\u001b[0m\u001b[0;34m\u001b[0m\u001b[0m\n\u001b[0;32m---> 16\u001b[0;31m         \u001b[0;34m(\u001b[0m\u001b[0mZ\u001b[0m\u001b[0;34m,\u001b[0m \u001b[0mcache\u001b[0m\u001b[0;34m)\u001b[0m \u001b[0;34m=\u001b[0m \u001b[0mlinear_forward\u001b[0m\u001b[0;34m(\u001b[0m\u001b[0mparameters\u001b[0m\u001b[0;34m[\u001b[0m\u001b[0;34m\"W\"\u001b[0m\u001b[0;34m+\u001b[0m\u001b[0mstr\u001b[0m\u001b[0;34m(\u001b[0m\u001b[0mi\u001b[0m\u001b[0;34m+\u001b[0m\u001b[0;36m1\u001b[0m\u001b[0;34m)\u001b[0m\u001b[0;34m]\u001b[0m\u001b[0;34m,\u001b[0m\u001b[0mparameters\u001b[0m\u001b[0;34m[\u001b[0m\u001b[0;34m\"b\"\u001b[0m\u001b[0;34m+\u001b[0m\u001b[0mstr\u001b[0m\u001b[0;34m(\u001b[0m\u001b[0mi\u001b[0m\u001b[0;34m+\u001b[0m\u001b[0;36m1\u001b[0m\u001b[0;34m)\u001b[0m\u001b[0;34m]\u001b[0m\u001b[0;34m,\u001b[0m\u001b[0ma_prev\u001b[0m\u001b[0;34m)\u001b[0m\u001b[0;34m\u001b[0m\u001b[0m\n\u001b[0m\u001b[1;32m     17\u001b[0m         \u001b[0ma_prev\u001b[0m \u001b[0;34m=\u001b[0m \u001b[0mactivation_forward\u001b[0m\u001b[0;34m(\u001b[0m\u001b[0mZ\u001b[0m\u001b[0;34m)\u001b[0m\u001b[0;34m\u001b[0m\u001b[0m\n\u001b[1;32m     18\u001b[0m         \u001b[0mcaches\u001b[0m\u001b[0;34m.\u001b[0m\u001b[0mappend\u001b[0m\u001b[0;34m(\u001b[0m\u001b[0mcache\u001b[0m\u001b[0;34m)\u001b[0m\u001b[0;34m\u001b[0m\u001b[0m\n",
        "\u001b[0;32m<ipython-input-14-99cb481d871a>\u001b[0m in \u001b[0;36mlinear_forward\u001b[0;34m(W, b, a_prev)\u001b[0m\n\u001b[1;32m     15\u001b[0m \u001b[0;34m\u001b[0m\u001b[0m\n\u001b[1;32m     16\u001b[0m     \u001b[0;31m# Calculate Z\u001b[0m\u001b[0;34m\u001b[0m\u001b[0;34m\u001b[0m\u001b[0m\n\u001b[0;32m---> 17\u001b[0;31m     \u001b[0mZ\u001b[0m \u001b[0;34m=\u001b[0m \u001b[0mnp\u001b[0m\u001b[0;34m.\u001b[0m\u001b[0madd\u001b[0m\u001b[0;34m(\u001b[0m\u001b[0mnp\u001b[0m\u001b[0;34m.\u001b[0m\u001b[0mmatmul\u001b[0m\u001b[0;34m(\u001b[0m\u001b[0mW\u001b[0m\u001b[0;34m,\u001b[0m\u001b[0ma_prev\u001b[0m\u001b[0;34m)\u001b[0m\u001b[0;34m,\u001b[0m\u001b[0mb\u001b[0m\u001b[0;34m)\u001b[0m\u001b[0;34m\u001b[0m\u001b[0m\n\u001b[0m\u001b[1;32m     18\u001b[0m \u001b[0;34m\u001b[0m\u001b[0m\n\u001b[1;32m     19\u001b[0m     \u001b[0;31m# Create a cache for backpropagation\u001b[0m\u001b[0;34m\u001b[0m\u001b[0;34m\u001b[0m\u001b[0m\n",
        "\u001b[0;31mValueError\u001b[0m: shapes (2,3) and (784,100) not aligned: 3 (dim 1) != 784 (dim 0)"
       ]
      }
     ],
     "prompt_number": 36
    },
    {
     "cell_type": "code",
     "collapsed": false,
     "input": [
      "plt.plot(losses)"
     ],
     "language": "python",
     "metadata": {},
     "outputs": [
      {
       "ename": "NameError",
       "evalue": "name 'losses' is not defined",
       "output_type": "pyerr",
       "traceback": [
        "\u001b[0;31m---------------------------------------------------------------------------\u001b[0m\n\u001b[0;31mNameError\u001b[0m                                 Traceback (most recent call last)",
        "\u001b[0;32m<ipython-input-37-98c70f921341>\u001b[0m in \u001b[0;36m<module>\u001b[0;34m()\u001b[0m\n\u001b[0;32m----> 1\u001b[0;31m \u001b[0mplt\u001b[0m\u001b[0;34m.\u001b[0m\u001b[0mplot\u001b[0m\u001b[0;34m(\u001b[0m\u001b[0mlosses\u001b[0m\u001b[0;34m)\u001b[0m\u001b[0;34m\u001b[0m\u001b[0m\n\u001b[0m",
        "\u001b[0;31mNameError\u001b[0m: name 'losses' is not defined"
       ]
      }
     ],
     "prompt_number": 37
    },
    {
     "cell_type": "markdown",
     "metadata": {},
     "source": [
      "<b>Expected output</b>\n",
      "\n",
      "Decreasing loss function."
     ]
    },
    {
     "cell_type": "heading",
     "level": 3,
     "metadata": {},
     "source": [
      "Accuracy"
     ]
    },
    {
     "cell_type": "code",
     "collapsed": false,
     "input": [
      "P, _ = nn_forward(parameters, x_train)"
     ],
     "language": "python",
     "metadata": {},
     "outputs": [
      {
       "ename": "ValueError",
       "evalue": "shapes (2,3) and (784,60000) not aligned: 3 (dim 1) != 784 (dim 0)",
       "output_type": "pyerr",
       "traceback": [
        "\u001b[0;31m---------------------------------------------------------------------------\u001b[0m\n\u001b[0;31mValueError\u001b[0m                                Traceback (most recent call last)",
        "\u001b[0;32m<ipython-input-38-53994812b5a0>\u001b[0m in \u001b[0;36m<module>\u001b[0;34m()\u001b[0m\n\u001b[0;32m----> 1\u001b[0;31m \u001b[0mP\u001b[0m\u001b[0;34m,\u001b[0m \u001b[0m_\u001b[0m \u001b[0;34m=\u001b[0m \u001b[0mnn_forward\u001b[0m\u001b[0;34m(\u001b[0m\u001b[0mparameters\u001b[0m\u001b[0;34m,\u001b[0m \u001b[0mx_train\u001b[0m\u001b[0;34m)\u001b[0m\u001b[0;34m\u001b[0m\u001b[0m\n\u001b[0m",
        "\u001b[0;32m<ipython-input-20-9b0003732c40>\u001b[0m in \u001b[0;36mnn_forward\u001b[0;34m(parameters, X)\u001b[0m\n\u001b[1;32m     14\u001b[0m     \u001b[0ma_prev\u001b[0m \u001b[0;34m=\u001b[0m \u001b[0mX\u001b[0m\u001b[0;34m.\u001b[0m\u001b[0mT\u001b[0m\u001b[0;34m\u001b[0m\u001b[0m\n\u001b[1;32m     15\u001b[0m     \u001b[0;32mfor\u001b[0m \u001b[0mi\u001b[0m \u001b[0;32min\u001b[0m \u001b[0mrange\u001b[0m\u001b[0;34m(\u001b[0m\u001b[0;36m0\u001b[0m\u001b[0;34m,\u001b[0m\u001b[0mL\u001b[0m\u001b[0;34m)\u001b[0m\u001b[0;34m:\u001b[0m\u001b[0;34m\u001b[0m\u001b[0m\n\u001b[0;32m---> 16\u001b[0;31m         \u001b[0;34m(\u001b[0m\u001b[0mZ\u001b[0m\u001b[0;34m,\u001b[0m \u001b[0mcache\u001b[0m\u001b[0;34m)\u001b[0m \u001b[0;34m=\u001b[0m \u001b[0mlinear_forward\u001b[0m\u001b[0;34m(\u001b[0m\u001b[0mparameters\u001b[0m\u001b[0;34m[\u001b[0m\u001b[0;34m\"W\"\u001b[0m\u001b[0;34m+\u001b[0m\u001b[0mstr\u001b[0m\u001b[0;34m(\u001b[0m\u001b[0mi\u001b[0m\u001b[0;34m+\u001b[0m\u001b[0;36m1\u001b[0m\u001b[0;34m)\u001b[0m\u001b[0;34m]\u001b[0m\u001b[0;34m,\u001b[0m\u001b[0mparameters\u001b[0m\u001b[0;34m[\u001b[0m\u001b[0;34m\"b\"\u001b[0m\u001b[0;34m+\u001b[0m\u001b[0mstr\u001b[0m\u001b[0;34m(\u001b[0m\u001b[0mi\u001b[0m\u001b[0;34m+\u001b[0m\u001b[0;36m1\u001b[0m\u001b[0;34m)\u001b[0m\u001b[0;34m]\u001b[0m\u001b[0;34m,\u001b[0m\u001b[0ma_prev\u001b[0m\u001b[0;34m)\u001b[0m\u001b[0;34m\u001b[0m\u001b[0m\n\u001b[0m\u001b[1;32m     17\u001b[0m         \u001b[0ma_prev\u001b[0m \u001b[0;34m=\u001b[0m \u001b[0mactivation_forward\u001b[0m\u001b[0;34m(\u001b[0m\u001b[0mZ\u001b[0m\u001b[0;34m)\u001b[0m\u001b[0;34m\u001b[0m\u001b[0m\n\u001b[1;32m     18\u001b[0m         \u001b[0mcaches\u001b[0m\u001b[0;34m.\u001b[0m\u001b[0mappend\u001b[0m\u001b[0;34m(\u001b[0m\u001b[0mcache\u001b[0m\u001b[0;34m)\u001b[0m\u001b[0;34m\u001b[0m\u001b[0m\n",
        "\u001b[0;32m<ipython-input-14-99cb481d871a>\u001b[0m in \u001b[0;36mlinear_forward\u001b[0;34m(W, b, a_prev)\u001b[0m\n\u001b[1;32m     15\u001b[0m \u001b[0;34m\u001b[0m\u001b[0m\n\u001b[1;32m     16\u001b[0m     \u001b[0;31m# Calculate Z\u001b[0m\u001b[0;34m\u001b[0m\u001b[0;34m\u001b[0m\u001b[0m\n\u001b[0;32m---> 17\u001b[0;31m     \u001b[0mZ\u001b[0m \u001b[0;34m=\u001b[0m \u001b[0mnp\u001b[0m\u001b[0;34m.\u001b[0m\u001b[0madd\u001b[0m\u001b[0;34m(\u001b[0m\u001b[0mnp\u001b[0m\u001b[0;34m.\u001b[0m\u001b[0mmatmul\u001b[0m\u001b[0;34m(\u001b[0m\u001b[0mW\u001b[0m\u001b[0;34m,\u001b[0m\u001b[0ma_prev\u001b[0m\u001b[0;34m)\u001b[0m\u001b[0;34m,\u001b[0m\u001b[0mb\u001b[0m\u001b[0;34m)\u001b[0m\u001b[0;34m\u001b[0m\u001b[0m\n\u001b[0m\u001b[1;32m     18\u001b[0m \u001b[0;34m\u001b[0m\u001b[0m\n\u001b[1;32m     19\u001b[0m     \u001b[0;31m# Create a cache for backpropagation\u001b[0m\u001b[0;34m\u001b[0m\u001b[0;34m\u001b[0m\u001b[0m\n",
        "\u001b[0;31mValueError\u001b[0m: shapes (2,3) and (784,60000) not aligned: 3 (dim 1) != 784 (dim 0)"
       ]
      }
     ],
     "prompt_number": 38
    },
    {
     "cell_type": "code",
     "collapsed": false,
     "input": [
      "accuracy(y_train_oh, P)"
     ],
     "language": "python",
     "metadata": {},
     "outputs": [],
     "prompt_number": null
    },
    {
     "cell_type": "markdown",
     "metadata": {},
     "source": [
      "<b>Expected accuracy:</b> around 0.88 (88%)"
     ]
    },
    {
     "cell_type": "markdown",
     "metadata": {},
     "source": [
      "### Test accuracy\n",
      "\n",
      "To measure the performance of the algorithm we use a test_set"
     ]
    },
    {
     "cell_type": "code",
     "collapsed": false,
     "input": [
      "P, _ = nn_forward(parameters, x_test)\n",
      "accuracy(y_test_oh, P)"
     ],
     "language": "python",
     "metadata": {},
     "outputs": [],
     "prompt_number": null
    },
    {
     "cell_type": "code",
     "collapsed": false,
     "input": [
      "i=6\n",
      "visualize(x_test[i])\n",
      "print(\"Network predicts: \", np.argmax(P[i,:]))"
     ],
     "language": "python",
     "metadata": {},
     "outputs": [],
     "prompt_number": null
    },
    {
     "cell_type": "code",
     "collapsed": false,
     "input": [],
     "language": "python",
     "metadata": {},
     "outputs": [],
     "prompt_number": null
    }
   ],
   "metadata": {}
  }
 ]
}